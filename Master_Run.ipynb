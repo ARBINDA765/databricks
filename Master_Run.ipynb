{
 "cells": [
  {
   "cell_type": "code",
   "execution_count": 0,
   "metadata": {
    "application/vnd.databricks.v1+cell": {
     "cellMetadata": {
      "byteLimit": 2048000,
      "rowLimit": 10000
     },
     "inputWidgets": {},
     "nuid": "3592b061-b3be-4b34-99b3-70b3155a4df4",
     "showTitle": false,
     "tableResultSettingsMap": {},
     "title": ""
    }
   },
   "outputs": [
    {
     "output_type": "stream",
     "name": "stdout",
     "output_type": "stream",
     "text": [
      "Data written to table with the count of  data written successfully  with 200\n"
     ]
    }
   ],
   "source": [
    "%python\n",
    "#run the child notebook with parameter\n",
    "master_count=dbutils.notebook.run(\n",
    "    \"Orchestrating Notebook Jobs, Schedules using Parameters\",\n",
    "    600,\n",
    "    {\"dept\": \"OFFICE\"}\n",
    ")\n",
    "print(f\"Data written to table with the count of  {master_count}\")"
   ]
  },
  {
   "cell_type": "code",
   "execution_count": 0,
   "metadata": {
    "application/vnd.databricks.v1+cell": {
     "cellMetadata": {},
     "inputWidgets": {},
     "nuid": "0e56df67-bae2-40f2-8ccf-c73a2f71cb2d",
     "showTitle": false,
     "tableResultSettingsMap": {},
     "title": ""
    }
   },
   "outputs": [],
   "source": []
  }
 ],
 "metadata": {
  "application/vnd.databricks.v1+notebook": {
   "computePreferences": null,
   "dashboards": [],
   "environmentMetadata": {
    "base_environment": "",
    "client": "1"
   },
   "language": "python",
   "notebookMetadata": {
    "pythonIndentUnit": 4
   },
   "notebookName": "Master_Run",
   "widgets": {}
  },
  "language_info": {
   "name": "python"
  }
 },
 "nbformat": 4,
 "nbformat_minor": 0
}